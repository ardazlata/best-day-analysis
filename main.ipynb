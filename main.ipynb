{
 "cells": [
  {
   "cell_type": "code",
   "execution_count": null,
   "id": "initial_id",
   "metadata": {
    "collapsed": true
   },
   "outputs": [],
   "source": [
    "import pandas as pd\n",
    "from prophet import Prophet\n",
    "from IPython.display import clear_output\n",
    "import os\n",
    "import logging\n",
    "\n",
    "logging.getLogger('fbprophet').setLevel(logging.WARNING) # Removes the warning messages"
   ]
  },
  {
   "cell_type": "code",
   "execution_count": null,
   "outputs": [],
   "source": [
    "# Read in the data\n",
    "\n",
    "df = pd.read_csv('VOO.csv', parse_dates=['Date'])\n",
    "df"
   ],
   "metadata": {
    "collapsed": false
   },
   "id": "c56deda1f3c6cb81"
  },
  {
   "cell_type": "code",
   "execution_count": null,
   "outputs": [],
   "source": [
    "# Rename the columns to fit Prophet's naming convention\n",
    "\n",
    "day_mapper = {0: 'Mon', 1: 'Tue', 2: 'Wed', 3: 'Thu', 4: 'Fri', 5: 'Sat', 6: 'Sun'}\n",
    "df[\"DayOfWeek\"] = df[\"Date\"].map(lambda x: day_mapper[x.weekday()])\n",
    "df"
   ],
   "metadata": {
    "collapsed": false
   },
   "id": "2fa185d8a2ac24f0"
  },
  {
   "cell_type": "code",
   "execution_count": null,
   "outputs": [],
   "source": [
    "# Take the previous value and then subtract it from the current value to get the daily change\n",
    "\n",
    "df[\"diff_from_previous_day\"] = (df[\"Open\"].diff() / df[\"Open\"]) * 100\n",
    "df"
   ],
   "metadata": {
    "collapsed": false
   },
   "id": "b762643ac4e7fd82"
  },
  {
   "cell_type": "code",
   "execution_count": null,
   "outputs": [],
   "source": [
    "# Compare the different days to see which one has the biggest dip from the previous day\n",
    "\n",
    "df.groupby(\"DayOfWeek\")[\"diff_from_previous_day\"].mean().sort_values()"
   ],
   "metadata": {
    "collapsed": false
   },
   "id": "de7c9e9c4544bc4"
  },
  {
   "cell_type": "markdown",
   "source": [
    "# Backtester Method\n",
    "\n",
    "Tracks the number of shares that I own based on the number of shares that I bought when and what happened to the price on any given day."
   ],
   "metadata": {
    "collapsed": false
   },
   "id": "4b6ec471f1e48e21"
  },
  {
   "cell_type": "code",
   "execution_count": null,
   "outputs": [],
   "source": [
    "# Create a table of every day between the minimum date and maximum date to deal with holidays\n",
    "\n",
    "dates = pd.date_range(start=df[\"Date\"].min(), end=df[\"Date\"].max(), freq=\"D\")\n",
    "\n",
    "# Add the name of the day of the week\n",
    "\n",
    "date_table = pd.DataFrame(data={\"Calendar Date\":dates})\n",
    "date_table[\"DayOfWeek\"] = date_table[\"Calendar Date\"].map(lambda x: day_mapper[x.weekday()])\n",
    "date_table"
   ],
   "metadata": {
    "collapsed": false
   },
   "id": "26573d71811d26e4"
  },
  {
   "cell_type": "code",
   "execution_count": 11,
   "outputs": [],
   "source": [
    "# In order to account for holidays, take the next day's opening value as that's the price I'd buy the stock at\n",
    "\n",
    "full_calendar = full_calendar.bfill(axis=\"rows\").reset_index(drop=True)\n",
    "full_calendar.to_clipboard()"
   ],
   "metadata": {
    "collapsed": false,
    "ExecuteTime": {
     "end_time": "2023-08-27T11:19:17.573305600Z",
     "start_time": "2023-08-27T11:19:17.488448Z"
    }
   },
   "id": "7946dc64b33b9117"
  },
  {
   "cell_type": "code",
   "execution_count": null,
   "outputs": [],
   "source": [],
   "metadata": {
    "collapsed": false
   },
   "id": "cd24e923148ff371"
  }
 ],
 "metadata": {
  "kernelspec": {
   "display_name": "Python 3",
   "language": "python",
   "name": "python3"
  },
  "language_info": {
   "codemirror_mode": {
    "name": "ipython",
    "version": 2
   },
   "file_extension": ".py",
   "mimetype": "text/x-python",
   "name": "python",
   "nbconvert_exporter": "python",
   "pygments_lexer": "ipython2",
   "version": "2.7.6"
  }
 },
 "nbformat": 4,
 "nbformat_minor": 5
}
