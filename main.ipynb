{
 "cells": [
  {
   "cell_type": "code",
   "execution_count": 8,
   "id": "initial_id",
   "metadata": {
    "collapsed": true,
    "ExecuteTime": {
     "end_time": "2023-08-24T23:27:38.373376200Z",
     "start_time": "2023-08-24T23:27:38.339822500Z"
    }
   },
   "outputs": [],
   "source": [
    "import pandas as pd\n",
    "from prophet import Prophet\n",
    "from IPython.display import clear_output\n",
    "import os\n",
    "import logging\n",
    "\n",
    "logging.getLogger('fbprophet').setLevel(logging.WARNING) # Removes the warning messages"
   ]
  },
  {
   "cell_type": "code",
   "execution_count": 9,
   "outputs": [
    {
     "data": {
      "text/plain": "           Date        Open        High         Low       Close   Adj Close  \\\n0    2010-09-09  102.500000  102.500000  101.139999  101.320000   81.350807   \n1    2010-09-10  101.680000  101.860001  101.300003  101.779999   81.720131   \n2    2010-09-13  102.959999  103.139999  102.500000  103.059998   82.747894   \n3    2010-09-14  102.839996  103.480003  102.379997  103.040001   82.731789   \n4    2010-09-15  102.620003  103.379997  102.400002  103.300003   82.940575   \n...         ...         ...         ...         ...         ...         ...   \n2876 2022-02-10  414.929993  420.799988  411.140015  413.179993  413.179993   \n2877 2022-02-11  413.149994  415.200012  403.570007  404.940002  404.940002   \n2878 2022-02-14  404.429993  405.989990  400.239990  403.619995  403.619995   \n2879 2022-02-15  408.179993  410.290009  407.459991  410.100006  410.100006   \n2880 2022-02-16  408.200012  411.890015  406.320007  410.589996  410.589996   \n\n        Volume  \n0        26500  \n1         8600  \n2        33750  \n3        59400  \n4         9250  \n...        ...  \n2876   9260500  \n2877  10452700  \n2878  10162000  \n2879   6822300  \n2880   7743800  \n\n[2881 rows x 7 columns]",
      "text/html": "<div>\n<style scoped>\n    .dataframe tbody tr th:only-of-type {\n        vertical-align: middle;\n    }\n\n    .dataframe tbody tr th {\n        vertical-align: top;\n    }\n\n    .dataframe thead th {\n        text-align: right;\n    }\n</style>\n<table border=\"1\" class=\"dataframe\">\n  <thead>\n    <tr style=\"text-align: right;\">\n      <th></th>\n      <th>Date</th>\n      <th>Open</th>\n      <th>High</th>\n      <th>Low</th>\n      <th>Close</th>\n      <th>Adj Close</th>\n      <th>Volume</th>\n    </tr>\n  </thead>\n  <tbody>\n    <tr>\n      <th>0</th>\n      <td>2010-09-09</td>\n      <td>102.500000</td>\n      <td>102.500000</td>\n      <td>101.139999</td>\n      <td>101.320000</td>\n      <td>81.350807</td>\n      <td>26500</td>\n    </tr>\n    <tr>\n      <th>1</th>\n      <td>2010-09-10</td>\n      <td>101.680000</td>\n      <td>101.860001</td>\n      <td>101.300003</td>\n      <td>101.779999</td>\n      <td>81.720131</td>\n      <td>8600</td>\n    </tr>\n    <tr>\n      <th>2</th>\n      <td>2010-09-13</td>\n      <td>102.959999</td>\n      <td>103.139999</td>\n      <td>102.500000</td>\n      <td>103.059998</td>\n      <td>82.747894</td>\n      <td>33750</td>\n    </tr>\n    <tr>\n      <th>3</th>\n      <td>2010-09-14</td>\n      <td>102.839996</td>\n      <td>103.480003</td>\n      <td>102.379997</td>\n      <td>103.040001</td>\n      <td>82.731789</td>\n      <td>59400</td>\n    </tr>\n    <tr>\n      <th>4</th>\n      <td>2010-09-15</td>\n      <td>102.620003</td>\n      <td>103.379997</td>\n      <td>102.400002</td>\n      <td>103.300003</td>\n      <td>82.940575</td>\n      <td>9250</td>\n    </tr>\n    <tr>\n      <th>...</th>\n      <td>...</td>\n      <td>...</td>\n      <td>...</td>\n      <td>...</td>\n      <td>...</td>\n      <td>...</td>\n      <td>...</td>\n    </tr>\n    <tr>\n      <th>2876</th>\n      <td>2022-02-10</td>\n      <td>414.929993</td>\n      <td>420.799988</td>\n      <td>411.140015</td>\n      <td>413.179993</td>\n      <td>413.179993</td>\n      <td>9260500</td>\n    </tr>\n    <tr>\n      <th>2877</th>\n      <td>2022-02-11</td>\n      <td>413.149994</td>\n      <td>415.200012</td>\n      <td>403.570007</td>\n      <td>404.940002</td>\n      <td>404.940002</td>\n      <td>10452700</td>\n    </tr>\n    <tr>\n      <th>2878</th>\n      <td>2022-02-14</td>\n      <td>404.429993</td>\n      <td>405.989990</td>\n      <td>400.239990</td>\n      <td>403.619995</td>\n      <td>403.619995</td>\n      <td>10162000</td>\n    </tr>\n    <tr>\n      <th>2879</th>\n      <td>2022-02-15</td>\n      <td>408.179993</td>\n      <td>410.290009</td>\n      <td>407.459991</td>\n      <td>410.100006</td>\n      <td>410.100006</td>\n      <td>6822300</td>\n    </tr>\n    <tr>\n      <th>2880</th>\n      <td>2022-02-16</td>\n      <td>408.200012</td>\n      <td>411.890015</td>\n      <td>406.320007</td>\n      <td>410.589996</td>\n      <td>410.589996</td>\n      <td>7743800</td>\n    </tr>\n  </tbody>\n</table>\n<p>2881 rows × 7 columns</p>\n</div>"
     },
     "execution_count": 9,
     "metadata": {},
     "output_type": "execute_result"
    }
   ],
   "source": [
    "# Read in the data\n",
    "\n",
    "df = pd.read_csv('VOO.csv', parse_dates=['Date'])\n",
    "df"
   ],
   "metadata": {
    "collapsed": false,
    "ExecuteTime": {
     "end_time": "2023-08-24T23:27:38.422695500Z",
     "start_time": "2023-08-24T23:27:38.352932400Z"
    }
   },
   "id": "c56deda1f3c6cb81"
  },
  {
   "cell_type": "code",
   "execution_count": 10,
   "outputs": [
    {
     "data": {
      "text/plain": "           Date        Open        High         Low       Close   Adj Close  \\\n0    2010-09-09  102.500000  102.500000  101.139999  101.320000   81.350807   \n1    2010-09-10  101.680000  101.860001  101.300003  101.779999   81.720131   \n2    2010-09-13  102.959999  103.139999  102.500000  103.059998   82.747894   \n3    2010-09-14  102.839996  103.480003  102.379997  103.040001   82.731789   \n4    2010-09-15  102.620003  103.379997  102.400002  103.300003   82.940575   \n...         ...         ...         ...         ...         ...         ...   \n2876 2022-02-10  414.929993  420.799988  411.140015  413.179993  413.179993   \n2877 2022-02-11  413.149994  415.200012  403.570007  404.940002  404.940002   \n2878 2022-02-14  404.429993  405.989990  400.239990  403.619995  403.619995   \n2879 2022-02-15  408.179993  410.290009  407.459991  410.100006  410.100006   \n2880 2022-02-16  408.200012  411.890015  406.320007  410.589996  410.589996   \n\n        Volume DayOfWeek  \n0        26500       Thu  \n1         8600       Fri  \n2        33750       Mon  \n3        59400       Tue  \n4         9250       Wed  \n...        ...       ...  \n2876   9260500       Thu  \n2877  10452700       Fri  \n2878  10162000       Mon  \n2879   6822300       Tue  \n2880   7743800       Wed  \n\n[2881 rows x 8 columns]",
      "text/html": "<div>\n<style scoped>\n    .dataframe tbody tr th:only-of-type {\n        vertical-align: middle;\n    }\n\n    .dataframe tbody tr th {\n        vertical-align: top;\n    }\n\n    .dataframe thead th {\n        text-align: right;\n    }\n</style>\n<table border=\"1\" class=\"dataframe\">\n  <thead>\n    <tr style=\"text-align: right;\">\n      <th></th>\n      <th>Date</th>\n      <th>Open</th>\n      <th>High</th>\n      <th>Low</th>\n      <th>Close</th>\n      <th>Adj Close</th>\n      <th>Volume</th>\n      <th>DayOfWeek</th>\n    </tr>\n  </thead>\n  <tbody>\n    <tr>\n      <th>0</th>\n      <td>2010-09-09</td>\n      <td>102.500000</td>\n      <td>102.500000</td>\n      <td>101.139999</td>\n      <td>101.320000</td>\n      <td>81.350807</td>\n      <td>26500</td>\n      <td>Thu</td>\n    </tr>\n    <tr>\n      <th>1</th>\n      <td>2010-09-10</td>\n      <td>101.680000</td>\n      <td>101.860001</td>\n      <td>101.300003</td>\n      <td>101.779999</td>\n      <td>81.720131</td>\n      <td>8600</td>\n      <td>Fri</td>\n    </tr>\n    <tr>\n      <th>2</th>\n      <td>2010-09-13</td>\n      <td>102.959999</td>\n      <td>103.139999</td>\n      <td>102.500000</td>\n      <td>103.059998</td>\n      <td>82.747894</td>\n      <td>33750</td>\n      <td>Mon</td>\n    </tr>\n    <tr>\n      <th>3</th>\n      <td>2010-09-14</td>\n      <td>102.839996</td>\n      <td>103.480003</td>\n      <td>102.379997</td>\n      <td>103.040001</td>\n      <td>82.731789</td>\n      <td>59400</td>\n      <td>Tue</td>\n    </tr>\n    <tr>\n      <th>4</th>\n      <td>2010-09-15</td>\n      <td>102.620003</td>\n      <td>103.379997</td>\n      <td>102.400002</td>\n      <td>103.300003</td>\n      <td>82.940575</td>\n      <td>9250</td>\n      <td>Wed</td>\n    </tr>\n    <tr>\n      <th>...</th>\n      <td>...</td>\n      <td>...</td>\n      <td>...</td>\n      <td>...</td>\n      <td>...</td>\n      <td>...</td>\n      <td>...</td>\n      <td>...</td>\n    </tr>\n    <tr>\n      <th>2876</th>\n      <td>2022-02-10</td>\n      <td>414.929993</td>\n      <td>420.799988</td>\n      <td>411.140015</td>\n      <td>413.179993</td>\n      <td>413.179993</td>\n      <td>9260500</td>\n      <td>Thu</td>\n    </tr>\n    <tr>\n      <th>2877</th>\n      <td>2022-02-11</td>\n      <td>413.149994</td>\n      <td>415.200012</td>\n      <td>403.570007</td>\n      <td>404.940002</td>\n      <td>404.940002</td>\n      <td>10452700</td>\n      <td>Fri</td>\n    </tr>\n    <tr>\n      <th>2878</th>\n      <td>2022-02-14</td>\n      <td>404.429993</td>\n      <td>405.989990</td>\n      <td>400.239990</td>\n      <td>403.619995</td>\n      <td>403.619995</td>\n      <td>10162000</td>\n      <td>Mon</td>\n    </tr>\n    <tr>\n      <th>2879</th>\n      <td>2022-02-15</td>\n      <td>408.179993</td>\n      <td>410.290009</td>\n      <td>407.459991</td>\n      <td>410.100006</td>\n      <td>410.100006</td>\n      <td>6822300</td>\n      <td>Tue</td>\n    </tr>\n    <tr>\n      <th>2880</th>\n      <td>2022-02-16</td>\n      <td>408.200012</td>\n      <td>411.890015</td>\n      <td>406.320007</td>\n      <td>410.589996</td>\n      <td>410.589996</td>\n      <td>7743800</td>\n      <td>Wed</td>\n    </tr>\n  </tbody>\n</table>\n<p>2881 rows × 8 columns</p>\n</div>"
     },
     "execution_count": 10,
     "metadata": {},
     "output_type": "execute_result"
    }
   ],
   "source": [
    "# Rename the columns to fit Prophet's naming convention\n",
    "\n",
    "day_mapper = {0: 'Mon', 1: 'Tue', 2: 'Wed', 3: 'Thu', 4: 'Fri', 5: 'Sat', 6: 'Sun'}\n",
    "df[\"DayOfWeek\"] = df[\"Date\"].map(lambda x: day_mapper[x.weekday()])\n",
    "df"
   ],
   "metadata": {
    "collapsed": false,
    "ExecuteTime": {
     "end_time": "2023-08-24T23:27:38.479412600Z",
     "start_time": "2023-08-24T23:27:38.420013800Z"
    }
   },
   "id": "2fa185d8a2ac24f0"
  },
  {
   "cell_type": "code",
   "execution_count": 11,
   "outputs": [
    {
     "data": {
      "text/plain": "           Date        Open        High         Low       Close   Adj Close  \\\n0    2010-09-09  102.500000  102.500000  101.139999  101.320000   81.350807   \n1    2010-09-10  101.680000  101.860001  101.300003  101.779999   81.720131   \n2    2010-09-13  102.959999  103.139999  102.500000  103.059998   82.747894   \n3    2010-09-14  102.839996  103.480003  102.379997  103.040001   82.731789   \n4    2010-09-15  102.620003  103.379997  102.400002  103.300003   82.940575   \n...         ...         ...         ...         ...         ...         ...   \n2876 2022-02-10  414.929993  420.799988  411.140015  413.179993  413.179993   \n2877 2022-02-11  413.149994  415.200012  403.570007  404.940002  404.940002   \n2878 2022-02-14  404.429993  405.989990  400.239990  403.619995  403.619995   \n2879 2022-02-15  408.179993  410.290009  407.459991  410.100006  410.100006   \n2880 2022-02-16  408.200012  411.890015  406.320007  410.589996  410.589996   \n\n        Volume DayOfWeek  diff_from_previous_day  \n0        26500       Thu                     NaN  \n1         8600       Fri               -0.806452  \n2        33750       Mon                1.243200  \n3        59400       Tue               -0.116689  \n4         9250       Wed               -0.214376  \n...        ...       ...                     ...  \n2876   9260500       Thu               -0.872435  \n2877  10452700       Fri               -0.430836  \n2878  10162000       Mon               -2.156121  \n2879   6822300       Tue                0.918712  \n2880   7743800       Wed                0.004904  \n\n[2881 rows x 9 columns]",
      "text/html": "<div>\n<style scoped>\n    .dataframe tbody tr th:only-of-type {\n        vertical-align: middle;\n    }\n\n    .dataframe tbody tr th {\n        vertical-align: top;\n    }\n\n    .dataframe thead th {\n        text-align: right;\n    }\n</style>\n<table border=\"1\" class=\"dataframe\">\n  <thead>\n    <tr style=\"text-align: right;\">\n      <th></th>\n      <th>Date</th>\n      <th>Open</th>\n      <th>High</th>\n      <th>Low</th>\n      <th>Close</th>\n      <th>Adj Close</th>\n      <th>Volume</th>\n      <th>DayOfWeek</th>\n      <th>diff_from_previous_day</th>\n    </tr>\n  </thead>\n  <tbody>\n    <tr>\n      <th>0</th>\n      <td>2010-09-09</td>\n      <td>102.500000</td>\n      <td>102.500000</td>\n      <td>101.139999</td>\n      <td>101.320000</td>\n      <td>81.350807</td>\n      <td>26500</td>\n      <td>Thu</td>\n      <td>NaN</td>\n    </tr>\n    <tr>\n      <th>1</th>\n      <td>2010-09-10</td>\n      <td>101.680000</td>\n      <td>101.860001</td>\n      <td>101.300003</td>\n      <td>101.779999</td>\n      <td>81.720131</td>\n      <td>8600</td>\n      <td>Fri</td>\n      <td>-0.806452</td>\n    </tr>\n    <tr>\n      <th>2</th>\n      <td>2010-09-13</td>\n      <td>102.959999</td>\n      <td>103.139999</td>\n      <td>102.500000</td>\n      <td>103.059998</td>\n      <td>82.747894</td>\n      <td>33750</td>\n      <td>Mon</td>\n      <td>1.243200</td>\n    </tr>\n    <tr>\n      <th>3</th>\n      <td>2010-09-14</td>\n      <td>102.839996</td>\n      <td>103.480003</td>\n      <td>102.379997</td>\n      <td>103.040001</td>\n      <td>82.731789</td>\n      <td>59400</td>\n      <td>Tue</td>\n      <td>-0.116689</td>\n    </tr>\n    <tr>\n      <th>4</th>\n      <td>2010-09-15</td>\n      <td>102.620003</td>\n      <td>103.379997</td>\n      <td>102.400002</td>\n      <td>103.300003</td>\n      <td>82.940575</td>\n      <td>9250</td>\n      <td>Wed</td>\n      <td>-0.214376</td>\n    </tr>\n    <tr>\n      <th>...</th>\n      <td>...</td>\n      <td>...</td>\n      <td>...</td>\n      <td>...</td>\n      <td>...</td>\n      <td>...</td>\n      <td>...</td>\n      <td>...</td>\n      <td>...</td>\n    </tr>\n    <tr>\n      <th>2876</th>\n      <td>2022-02-10</td>\n      <td>414.929993</td>\n      <td>420.799988</td>\n      <td>411.140015</td>\n      <td>413.179993</td>\n      <td>413.179993</td>\n      <td>9260500</td>\n      <td>Thu</td>\n      <td>-0.872435</td>\n    </tr>\n    <tr>\n      <th>2877</th>\n      <td>2022-02-11</td>\n      <td>413.149994</td>\n      <td>415.200012</td>\n      <td>403.570007</td>\n      <td>404.940002</td>\n      <td>404.940002</td>\n      <td>10452700</td>\n      <td>Fri</td>\n      <td>-0.430836</td>\n    </tr>\n    <tr>\n      <th>2878</th>\n      <td>2022-02-14</td>\n      <td>404.429993</td>\n      <td>405.989990</td>\n      <td>400.239990</td>\n      <td>403.619995</td>\n      <td>403.619995</td>\n      <td>10162000</td>\n      <td>Mon</td>\n      <td>-2.156121</td>\n    </tr>\n    <tr>\n      <th>2879</th>\n      <td>2022-02-15</td>\n      <td>408.179993</td>\n      <td>410.290009</td>\n      <td>407.459991</td>\n      <td>410.100006</td>\n      <td>410.100006</td>\n      <td>6822300</td>\n      <td>Tue</td>\n      <td>0.918712</td>\n    </tr>\n    <tr>\n      <th>2880</th>\n      <td>2022-02-16</td>\n      <td>408.200012</td>\n      <td>411.890015</td>\n      <td>406.320007</td>\n      <td>410.589996</td>\n      <td>410.589996</td>\n      <td>7743800</td>\n      <td>Wed</td>\n      <td>0.004904</td>\n    </tr>\n  </tbody>\n</table>\n<p>2881 rows × 9 columns</p>\n</div>"
     },
     "execution_count": 11,
     "metadata": {},
     "output_type": "execute_result"
    }
   ],
   "source": [
    "# Take the previous value and then subtract it from the current value to get the daily change\n",
    "\n",
    "df[\"diff_from_previous_day\"] = (df[\"Open\"].diff() / df[\"Open\"]) * 100\n",
    "df"
   ],
   "metadata": {
    "collapsed": false,
    "ExecuteTime": {
     "end_time": "2023-08-24T23:27:38.574906700Z",
     "start_time": "2023-08-24T23:27:38.461899200Z"
    }
   },
   "id": "b762643ac4e7fd82"
  },
  {
   "cell_type": "code",
   "execution_count": 15,
   "outputs": [
    {
     "data": {
      "text/plain": "DayOfWeek\nMon   -0.034693\nThu   -0.001912\nFri    0.064210\nWed    0.076498\nTue    0.103887\nName: diff_from_previous_day, dtype: float64"
     },
     "execution_count": 15,
     "metadata": {},
     "output_type": "execute_result"
    }
   ],
   "source": [
    "# Compare the different days to see which one has the biggest dip from the previous day\n",
    "\n",
    "df.groupby(\"DayOfWeek\")[\"diff_from_previous_day\"].mean().sort_values()"
   ],
   "metadata": {
    "collapsed": false,
    "ExecuteTime": {
     "end_time": "2023-08-24T23:28:14.613519500Z",
     "start_time": "2023-08-24T23:28:14.583132500Z"
    }
   },
   "id": "de7c9e9c4544bc4"
  },
  {
   "cell_type": "code",
   "execution_count": null,
   "outputs": [],
   "source": [],
   "metadata": {
    "collapsed": false
   },
   "id": "26573d71811d26e4"
  }
 ],
 "metadata": {
  "kernelspec": {
   "display_name": "Python 3",
   "language": "python",
   "name": "python3"
  },
  "language_info": {
   "codemirror_mode": {
    "name": "ipython",
    "version": 2
   },
   "file_extension": ".py",
   "mimetype": "text/x-python",
   "name": "python",
   "nbconvert_exporter": "python",
   "pygments_lexer": "ipython2",
   "version": "2.7.6"
  }
 },
 "nbformat": 4,
 "nbformat_minor": 5
}
